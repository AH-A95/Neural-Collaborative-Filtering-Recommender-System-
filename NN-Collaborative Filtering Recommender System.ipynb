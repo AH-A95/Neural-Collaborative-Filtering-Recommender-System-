{
  "cells": [
    {
      "metadata": {
        "trusted": true
      },
      "cell_type": "code",
      "source": "import matplotlib.pyplot as plt\nimport tensorflow as tf\nimport numpy as np\nimport pandas as pd\nfrom sklearn.preprocessing import MinMaxScaler\nfrom sklearn.model_selection import train_test_split\n\nfrom tensorflow.python.keras.layers import Embedding, Dot, Flatten, Input, Dense, Dropout\nfrom tensorflow.python.keras.models import  Model",
      "execution_count": 1,
      "outputs": [
        {
          "output_type": "stream",
          "text": "/home/nbuser/anaconda3_501/lib/python3.6/site-packages/matplotlib/font_manager.py:229: UserWarning: Matplotlib is building the font cache using fc-list. This may take a moment.\n  'Matplotlib is building the font cache using fc-list. '\n",
          "name": "stderr"
        }
      ]
    },
    {
      "metadata": {
        "trusted": true
      },
      "cell_type": "code",
      "source": "columns = ['UserID', 'MovieID', 'Rating', 'Timestamp']\ndata = pd.read_table('u.data', names=columns)\ndata.head()",
      "execution_count": 2,
      "outputs": [
        {
          "output_type": "execute_result",
          "execution_count": 2,
          "data": {
            "text/html": "<div>\n<style scoped>\n    .dataframe tbody tr th:only-of-type {\n        vertical-align: middle;\n    }\n\n    .dataframe tbody tr th {\n        vertical-align: top;\n    }\n\n    .dataframe thead th {\n        text-align: right;\n    }\n</style>\n<table border=\"1\" class=\"dataframe\">\n  <thead>\n    <tr style=\"text-align: right;\">\n      <th></th>\n      <th>UserID</th>\n      <th>MovieID</th>\n      <th>Rating</th>\n      <th>Timestamp</th>\n    </tr>\n  </thead>\n  <tbody>\n    <tr>\n      <th>0</th>\n      <td>196</td>\n      <td>242</td>\n      <td>3</td>\n      <td>881250949</td>\n    </tr>\n    <tr>\n      <th>1</th>\n      <td>186</td>\n      <td>302</td>\n      <td>3</td>\n      <td>891717742</td>\n    </tr>\n    <tr>\n      <th>2</th>\n      <td>22</td>\n      <td>377</td>\n      <td>1</td>\n      <td>878887116</td>\n    </tr>\n    <tr>\n      <th>3</th>\n      <td>244</td>\n      <td>51</td>\n      <td>2</td>\n      <td>880606923</td>\n    </tr>\n    <tr>\n      <th>4</th>\n      <td>166</td>\n      <td>346</td>\n      <td>1</td>\n      <td>886397596</td>\n    </tr>\n  </tbody>\n</table>\n</div>",
            "text/plain": "   UserID  MovieID  Rating  Timestamp\n0     196      242       3  881250949\n1     186      302       3  891717742\n2      22      377       1  878887116\n3     244       51       2  880606923\n4     166      346       1  886397596"
          },
          "metadata": {}
        }
      ]
    },
    {
      "metadata": {
        "trusted": true
      },
      "cell_type": "code",
      "source": "#check for missing data \ndata.isnull().sum()",
      "execution_count": 3,
      "outputs": [
        {
          "output_type": "execute_result",
          "execution_count": 3,
          "data": {
            "text/plain": "UserID       0\nMovieID      0\nRating       0\nTimestamp    0\ndtype: int64"
          },
          "metadata": {}
        }
      ]
    },
    {
      "metadata": {
        "trusted": true
      },
      "cell_type": "code",
      "source": "#Get rid of data we don't need \ndata.drop('Timestamp', axis=1, inplace=True)\ndata.head(10)",
      "execution_count": 4,
      "outputs": [
        {
          "output_type": "execute_result",
          "execution_count": 4,
          "data": {
            "text/html": "<div>\n<style scoped>\n    .dataframe tbody tr th:only-of-type {\n        vertical-align: middle;\n    }\n\n    .dataframe tbody tr th {\n        vertical-align: top;\n    }\n\n    .dataframe thead th {\n        text-align: right;\n    }\n</style>\n<table border=\"1\" class=\"dataframe\">\n  <thead>\n    <tr style=\"text-align: right;\">\n      <th></th>\n      <th>UserID</th>\n      <th>MovieID</th>\n      <th>Rating</th>\n    </tr>\n  </thead>\n  <tbody>\n    <tr>\n      <th>0</th>\n      <td>196</td>\n      <td>242</td>\n      <td>3</td>\n    </tr>\n    <tr>\n      <th>1</th>\n      <td>186</td>\n      <td>302</td>\n      <td>3</td>\n    </tr>\n    <tr>\n      <th>2</th>\n      <td>22</td>\n      <td>377</td>\n      <td>1</td>\n    </tr>\n    <tr>\n      <th>3</th>\n      <td>244</td>\n      <td>51</td>\n      <td>2</td>\n    </tr>\n    <tr>\n      <th>4</th>\n      <td>166</td>\n      <td>346</td>\n      <td>1</td>\n    </tr>\n    <tr>\n      <th>5</th>\n      <td>298</td>\n      <td>474</td>\n      <td>4</td>\n    </tr>\n    <tr>\n      <th>6</th>\n      <td>115</td>\n      <td>265</td>\n      <td>2</td>\n    </tr>\n    <tr>\n      <th>7</th>\n      <td>253</td>\n      <td>465</td>\n      <td>5</td>\n    </tr>\n    <tr>\n      <th>8</th>\n      <td>305</td>\n      <td>451</td>\n      <td>3</td>\n    </tr>\n    <tr>\n      <th>9</th>\n      <td>6</td>\n      <td>86</td>\n      <td>3</td>\n    </tr>\n  </tbody>\n</table>\n</div>",
            "text/plain": "   UserID  MovieID  Rating\n0     196      242       3\n1     186      302       3\n2      22      377       1\n3     244       51       2\n4     166      346       1\n5     298      474       4\n6     115      265       2\n7     253      465       5\n8     305      451       3\n9       6       86       3"
          },
          "metadata": {}
        }
      ]
    },
    {
      "metadata": {
        "trusted": true
      },
      "cell_type": "code",
      "source": "#create a list of unique users and movies\nn_users, n_movies = len(data['UserID'].unique()), len(data['MovieID'].unique())\nprint('number of users:'+ str(n_users), 'number of movies:'+ str(n_movies))",
      "execution_count": 5,
      "outputs": [
        {
          "output_type": "stream",
          "text": "number of users:943 number of movies:1682\n",
          "name": "stdout"
        }
      ]
    },
    {
      "metadata": {
        "trusted": true
      },
      "cell_type": "code",
      "source": "train, test = train_test_split(data, test_size=0.2)",
      "execution_count": 6,
      "outputs": []
    },
    {
      "metadata": {
        "trusted": true
      },
      "cell_type": "code",
      "source": "#The model architechure! From embedding and flattening to dense layers and output\ndim = 30\n\nuser_input = Input(shape=[1],name='user_input')\nmovie_input = Input(shape=[1],name='movie_input')\n\nuser_embedding = Flatten()(Embedding(n_users+1, dim, input_length=1, name='user_embedding')(user_input))\nmovie_embedding = Flatten()(Embedding(n_movies+1, dim, input_length=1, name='movie_embedding')(movie_input))\n\nmatrix = Dot(axes=1)([user_embedding, movie_embedding])\n\ndense_1 = Dense(50, activation='relu', name = \"Dense1\")(matrix)\ndense_1 = Dropout(0.2)(dense_1)\ndense_2 = Dense(20, activation=\"relu\", name = \"Dense2\")(dense_1)\ndense_2 = Dropout(0.2)(dense_2)\noutput = Dense(1, activation='relu', name = \"Output\")(dense_2)\n\nnn_model = Model([user_input, movie_input], output)\n\nnn_model.summary()",
      "execution_count": 7,
      "outputs": [
        {
          "output_type": "stream",
          "text": "Model: \"model\"\n__________________________________________________________________________________________________\nLayer (type)                    Output Shape         Param #     Connected to                     \n==================================================================================================\nuser_input (InputLayer)         [(None, 1)]          0                                            \n__________________________________________________________________________________________________\nmovie_input (InputLayer)        [(None, 1)]          0                                            \n__________________________________________________________________________________________________\nuser_embedding (Embedding)      (None, 1, 30)        28320       user_input[0][0]                 \n__________________________________________________________________________________________________\nmovie_embedding (Embedding)     (None, 1, 30)        50490       movie_input[0][0]                \n__________________________________________________________________________________________________\nflatten (Flatten)               (None, 30)           0           user_embedding[0][0]             \n__________________________________________________________________________________________________\nflatten_1 (Flatten)             (None, 30)           0           movie_embedding[0][0]            \n__________________________________________________________________________________________________\ndot (Dot)                       (None, 1)            0           flatten[0][0]                    \n                                                                 flatten_1[0][0]                  \n__________________________________________________________________________________________________\nDense1 (Dense)                  (None, 50)           100         dot[0][0]                        \n__________________________________________________________________________________________________\ndropout (Dropout)               (None, 50)           0           Dense1[0][0]                     \n__________________________________________________________________________________________________\nDense2 (Dense)                  (None, 20)           1020        dropout[0][0]                    \n__________________________________________________________________________________________________\ndropout_1 (Dropout)             (None, 20)           0           Dense2[0][0]                     \n__________________________________________________________________________________________________\nOutput (Dense)                  (None, 1)            21          dropout_1[0][0]                  \n==================================================================================================\nTotal params: 79,951\nTrainable params: 79,951\nNon-trainable params: 0\n__________________________________________________________________________________________________\n",
          "name": "stdout"
        }
      ]
    },
    {
      "metadata": {
        "trusted": true
      },
      "cell_type": "code",
      "source": "nn_model.compile(optimizer='adam',loss='mse')\nhistory = nn_model.fit([train['UserID'], train['MovieID']], train['Rating'], batch_size=128, epochs=5)",
      "execution_count": 8,
      "outputs": [
        {
          "output_type": "stream",
          "text": "Train on 80000 samples\nEpoch 1/5\n80000/80000 [==============================] - 6s 69us/sample - loss: 2.5639\nEpoch 2/5\n80000/80000 [==============================] - 4s 53us/sample - loss: 1.0917\nEpoch 3/5\n80000/80000 [==============================] - 4s 49us/sample - loss: 0.8270\nEpoch 4/5\n80000/80000 [==============================] - 5s 59us/sample - loss: 0.6974\nEpoch 5/5\n80000/80000 [==============================] - 4s 49us/sample - loss: 0.6077\n",
          "name": "stdout"
        }
      ]
    },
    {
      "metadata": {
        "trusted": true
      },
      "cell_type": "code",
      "source": "",
      "execution_count": null,
      "outputs": []
    }
  ],
  "metadata": {
    "kernelspec": {
      "name": "python36",
      "display_name": "Python 3.6",
      "language": "python"
    },
    "language_info": {
      "mimetype": "text/x-python",
      "nbconvert_exporter": "python",
      "name": "python",
      "pygments_lexer": "ipython3",
      "version": "3.6.6",
      "file_extension": ".py",
      "codemirror_mode": {
        "version": 3,
        "name": "ipython"
      }
    }
  },
  "nbformat": 4,
  "nbformat_minor": 2
}